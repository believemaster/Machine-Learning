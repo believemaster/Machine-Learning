{
  "nbformat": 4,
  "nbformat_minor": 0,
  "metadata": {
    "colab": {
      "name": "Neural Nets - Keras CIFAR10 Classification.ipynb",
      "provenance": [],
      "collapsed_sections": [],
      "toc_visible": true
    },
    "kernelspec": {
      "name": "python3",
      "display_name": "Python 3"
    }
  },
  "cells": [
    {
      "cell_type": "markdown",
      "metadata": {
        "id": "mctTkFCwAdCl",
        "colab_type": "text"
      },
      "source": [
        "# Imports"
      ]
    },
    {
      "cell_type": "code",
      "metadata": {
        "id": "uP_DTo0qAe7i",
        "colab_type": "code",
        "colab": {}
      },
      "source": [
        "from numpy.random import seed\n",
        "seed(888)\n",
        "from tensorflow import set_random_seed\n",
        "set_random_seed(404)"
      ],
      "execution_count": 0,
      "outputs": []
    },
    {
      "cell_type": "code",
      "metadata": {
        "id": "2JJHDXynAgeD",
        "colab_type": "code",
        "colab": {}
      },
      "source": [
        "import os\n",
        "import numpy as np\n",
        "import tensorflow as tf\n",
        "import itertools\n",
        "\n",
        "import keras\n",
        "from keras.datasets import cifar10 # cifar10 data web : https://www.cs.toronto.edu/~kriz/cifar.html\n",
        "from keras.models import Sequential\n",
        "from keras.layers import Dense, Activation, Dropout\n",
        "\n",
        "from IPython.display import display\n",
        "from keras.preprocessing.image import array_to_img\n",
        "from keras.callbacks import TensorBoard\n",
        "\n",
        "from time import strftime\n",
        "\n",
        "from sklearn.metrics import confusion_matrix\n",
        "\n",
        "import matplotlib.pyplot as plt\n",
        "\n",
        "%matplotlib inline"
      ],
      "execution_count": 0,
      "outputs": []
    },
    {
      "cell_type": "markdown",
      "metadata": {
        "id": "BSkOdzT7CIF-",
        "colab_type": "text"
      },
      "source": [
        "# Constants"
      ]
    },
    {
      "cell_type": "code",
      "metadata": {
        "id": "0RRQDVf-CMtM",
        "colab_type": "code",
        "colab": {}
      },
      "source": [
        "LOG_DIR = 'tensorboard_cifar_logs/'\n",
        "\n",
        "LABEL_NAMES = ['Plane', 'Car', 'Bird', 'Cat', 'Deer', 'Dog', 'Frog', 'Horse', 'Ship', 'Truck']\n",
        "IMAGE_WIDTH = 32\n",
        "IMAGE_HEIGHT = 32\n",
        "IMAGE_PIXEL = IMAGE_WIDTH * IMAGE_HEIGHT\n",
        "COLOR_CHANNELS = 3\n",
        "TOTAL_INPUTS = IMAGE_PIXEL * COLOR_CHANNELS\n",
        "NR_CLASSES = 10\n",
        "\n",
        "VALIDATION_SIZE = 10000\n",
        "SMALL_TRAIN_SIZE = 1000"
      ],
      "execution_count": 0,
      "outputs": []
    },
    {
      "cell_type": "markdown",
      "metadata": {
        "id": "7SGnnehtAjWr",
        "colab_type": "text"
      },
      "source": [
        "# Get Data"
      ]
    },
    {
      "cell_type": "code",
      "metadata": {
        "id": "Hc0POrU8Alg-",
        "colab_type": "code",
        "colab": {}
      },
      "source": [
        "(x_train_all, y_train_all), (x_test, y_test) = cifar10.load_data()"
      ],
      "execution_count": 0,
      "outputs": []
    },
    {
      "cell_type": "code",
      "metadata": {
        "id": "oYFihQTyAnQH",
        "colab_type": "code",
        "colab": {}
      },
      "source": [
        "type(cifar10)\n",
        "type(x_train_all)"
      ],
      "execution_count": 0,
      "outputs": []
    },
    {
      "cell_type": "markdown",
      "metadata": {
        "id": "9I5ccZQTBP6T",
        "colab_type": "text"
      },
      "source": [
        "# Explore the Data"
      ]
    },
    {
      "cell_type": "code",
      "metadata": {
        "id": "rXMG_nolBRmJ",
        "colab_type": "code",
        "colab": {}
      },
      "source": [
        "x_train_all[0] # gives image in array"
      ],
      "execution_count": 0,
      "outputs": []
    },
    {
      "cell_type": "code",
      "metadata": {
        "id": "__Q3DmBWBWVR",
        "colab_type": "code",
        "colab": {}
      },
      "source": [
        "pic = array_to_img(x_train_all[7]) # making array img into img\n",
        "display(pic)"
      ],
      "execution_count": 0,
      "outputs": []
    },
    {
      "cell_type": "code",
      "metadata": {
        "id": "vFeAAsXRBhkq",
        "colab_type": "code",
        "colab": {}
      },
      "source": [
        "y_train_all.shape # total 50,000 entries"
      ],
      "execution_count": 0,
      "outputs": []
    },
    {
      "cell_type": "code",
      "metadata": {
        "id": "bRSBYPe1BqS6",
        "colab_type": "code",
        "colab": {}
      },
      "source": [
        "y_train_all[7][0] # in cs.torronto web 7th is horse"
      ],
      "execution_count": 0,
      "outputs": []
    },
    {
      "cell_type": "code",
      "metadata": {
        "id": "KEMLw54tBv-x",
        "colab_type": "code",
        "colab": {}
      },
      "source": [
        "LABEL_NAMES[y_train_all[7][0]]"
      ],
      "execution_count": 0,
      "outputs": []
    },
    {
      "cell_type": "code",
      "metadata": {
        "id": "ehdjo0XQCmj3",
        "colab_type": "code",
        "colab": {}
      },
      "source": [
        "plt.imshow(x_train_all[4])\n",
        "plt.xlabel(LABEL_NAMES[y_train_all[4][0]], fontsize=15)\n",
        "plt.show()"
      ],
      "execution_count": 0,
      "outputs": []
    },
    {
      "cell_type": "code",
      "metadata": {
        "id": "1RvMU7EQCv_4",
        "colab_type": "code",
        "colab": {}
      },
      "source": [
        "plt.figure(figsize=(15, 5))\n",
        "\n",
        "for i in range(10):\n",
        "  plt.subplot(1, 10, i+1)\n",
        "  plt.yticks([])\n",
        "  plt.xticks([])\n",
        "  plt.xlabel(LABEL_NAMES[y_train_all[i][0]], fontsize=14)\n",
        "  plt.imshow(x_train_all[i])"
      ],
      "execution_count": 0,
      "outputs": []
    },
    {
      "cell_type": "code",
      "metadata": {
        "id": "BdZAIyt-DofB",
        "colab_type": "code",
        "colab": {}
      },
      "source": [
        "# x_train_all[0] # format of the first image\n",
        "x_train_all[0].shape"
      ],
      "execution_count": 0,
      "outputs": []
    },
    {
      "cell_type": "code",
      "metadata": {
        "id": "5Y9nS18wELMR",
        "colab_type": "code",
        "colab": {}
      },
      "source": [
        "nr_images, x, y, c = x_train_all.shape\n",
        "print(f'images = {nr_images} \\t| width = {x}, \\t| height = {y} \\t| channels ={c}') # channels = color channels per pixel"
      ],
      "execution_count": 0,
      "outputs": []
    },
    {
      "cell_type": "code",
      "metadata": {
        "id": "-SjMVYQcEWma",
        "colab_type": "code",
        "colab": {}
      },
      "source": [
        "x_test.shape"
      ],
      "execution_count": 0,
      "outputs": []
    },
    {
      "cell_type": "markdown",
      "metadata": {
        "id": "cswXHCQBFXcC",
        "colab_type": "text"
      },
      "source": [
        "# Preprocess Data"
      ]
    },
    {
      "cell_type": "code",
      "metadata": {
        "id": "Skw1MBx0FM8h",
        "colab_type": "code",
        "colab": {}
      },
      "source": [
        "x_train_all[0][0][0] # RGB values(diving deeper in image into array of array)"
      ],
      "execution_count": 0,
      "outputs": []
    },
    {
      "cell_type": "code",
      "metadata": {
        "id": "xTdeIj7oFiMB",
        "colab_type": "code",
        "colab": {}
      },
      "source": [
        "x_train_all[0][0][0][0]"
      ],
      "execution_count": 0,
      "outputs": []
    },
    {
      "cell_type": "code",
      "metadata": {
        "id": "UhanojyVFyiG",
        "colab_type": "code",
        "colab": {}
      },
      "source": [
        "type(x_train_all[0][0][0][0])  # 8 bit unsigned integer (uint)"
      ],
      "execution_count": 0,
      "outputs": []
    },
    {
      "cell_type": "code",
      "metadata": {
        "id": "sTcDNaJ-F1uM",
        "colab_type": "code",
        "colab": {}
      },
      "source": [
        "# all values in array will be in 0 and 1 also there will some conversion from int to float as it is decimals | bringing range down to adjust learning rate\n",
        "x_train_all, x_test = x_train_all / 255.0, x_test / 255.0 "
      ],
      "execution_count": 0,
      "outputs": []
    },
    {
      "cell_type": "code",
      "metadata": {
        "id": "Q95NqAcnHQkM",
        "colab_type": "code",
        "colab": {}
      },
      "source": [
        " x_train_all[0][0][0][0]"
      ],
      "execution_count": 0,
      "outputs": []
    },
    {
      "cell_type": "code",
      "metadata": {
        "id": "T3YxGnGxH8yf",
        "colab_type": "code",
        "colab": {}
      },
      "source": [
        "x_train_all = x_train_all.reshape(x_train_all.shape[0], TOTAL_INPUTS)"
      ],
      "execution_count": 0,
      "outputs": []
    },
    {
      "cell_type": "code",
      "metadata": {
        "id": "AS22sad4IkB7",
        "colab_type": "code",
        "colab": {}
      },
      "source": [
        "x_train_all.shape"
      ],
      "execution_count": 0,
      "outputs": []
    },
    {
      "cell_type": "code",
      "metadata": {
        "id": "9WpBQPkuIkv8",
        "colab_type": "code",
        "colab": {}
      },
      "source": [
        "x_test = x_test.reshape(len(x_test), TOTAL_INPUTS)\n",
        "print(f'Shape of x_test is {x_test.shape}')"
      ],
      "execution_count": 0,
      "outputs": []
    },
    {
      "cell_type": "markdown",
      "metadata": {
        "id": "z8G1B88vJ_3m",
        "colab_type": "text"
      },
      "source": [
        "### Create Validation Dataset\n",
        "50000 imgs = 40000 for training + 10000 validation \n",
        "10000 values from 50000 is for validation"
      ]
    },
    {
      "cell_type": "code",
      "metadata": {
        "id": "12k7BU9uJW7d",
        "colab_type": "code",
        "colab": {}
      },
      "source": [
        "x_val = x_train_all[:VALIDATION_SIZE]\n",
        "y_val = y_train_all[:VALIDATION_SIZE]\n",
        "x_val.shape"
      ],
      "execution_count": 0,
      "outputs": []
    },
    {
      "cell_type": "code",
      "metadata": {
        "id": "XF4g0lmoKRAD",
        "colab_type": "code",
        "colab": {}
      },
      "source": [
        "x_train = x_train_all[VALIDATION_SIZE:]\n",
        "y_train = y_train_all[VALIDATION_SIZE:]\n",
        "x_train.shape"
      ],
      "execution_count": 0,
      "outputs": []
    },
    {
      "cell_type": "markdown",
      "metadata": {
        "id": "NKqPJ2phLJAb",
        "colab_type": "text"
      },
      "source": [
        "### Create a small dataset (for illustration)"
      ]
    },
    {
      "cell_type": "code",
      "metadata": {
        "id": "PQEQZf_5Kq8G",
        "colab_type": "code",
        "colab": {}
      },
      "source": [
        "x_train_xs = x_train[:SMALL_TRAIN_SIZE]\n",
        "y_train_xs = y_train[:SMALL_TRAIN_SIZE]"
      ],
      "execution_count": 0,
      "outputs": []
    },
    {
      "cell_type": "markdown",
      "metadata": {
        "id": "pf-l-BkHOKmG",
        "colab_type": "text"
      },
      "source": [
        "# Define the Neural Network using Keras"
      ]
    },
    {
      "cell_type": "code",
      "metadata": {
        "id": "D0HXzd1hLWfr",
        "colab_type": "code",
        "colab": {}
      },
      "source": [
        "# hidden layer 'relu', output layer 'softmax'\n",
        "model_1 = Sequential([\n",
        "    Dense(units=128, input_dim=TOTAL_INPUTS, activation='relu', name='m1_hidden1'),\n",
        "    Dense(units=64, activation='relu', name='m1_hidden2'),\n",
        "    Dense(16, activation='relu', name='m1_hidden3'),\n",
        "    Dense(10, activation='softmax', name='m1_output')\n",
        "])\n",
        "\n",
        "model_1.compile(optimizer='adam', \n",
        "                loss='sparse_categorical_crossentropy', \n",
        "                metrics=['accuracy'])"
      ],
      "execution_count": 0,
      "outputs": []
    },
    {
      "cell_type": "code",
      "metadata": {
        "id": "YX0rKpBeG8kc",
        "colab_type": "code",
        "colab": {}
      },
      "source": [
        "model_2 = Sequential()\n",
        "model_2.add(Dropout(0.2, seed=42, input_shape=(TOTAL_INPUTS,)))\n",
        "model_2.add(Dense(128, activation='relu', name='m2_hidden1'))\n",
        "model_2.add(Dense(64, activation='relu', name='m2_hidden2'))\n",
        "model_2.add(Dense(16, activation='relu', name='m2_hidden3'))\n",
        "model_2.add(Dense(10, activation='softmax', name='m2_output'))\n",
        "\n",
        "model_2.compile(optimizer='adam', \n",
        "                loss='sparse_categorical_crossentropy', \n",
        "                metrics=['accuracy'])"
      ],
      "execution_count": 0,
      "outputs": []
    },
    {
      "cell_type": "code",
      "metadata": {
        "colab_type": "code",
        "id": "XFe5Tmv3KIOF",
        "colab": {}
      },
      "source": [
        "model_3 = Sequential()\n",
        "model_3.add(Dropout(0.2, seed=42, input_shape=(TOTAL_INPUTS,)))\n",
        "model_3.add(Dense(128, activation='relu', name='m2_hidden1'))\n",
        "model_3.add(Dropout(0.25, seed=42))\n",
        "model_3.add(Dense(64, activation='relu', name='m2_hidden2'))\n",
        "model_3.add(Dense(16, activation='relu', name='m2_hidden3'))\n",
        "model_3.add(Dense(10, activation='softmax', name='m2_output'))\n",
        "\n",
        "model_3.compile(optimizer='adam', \n",
        "                loss='sparse_categorical_crossentropy', \n",
        "                metrics=['accuracy'])"
      ],
      "execution_count": 0,
      "outputs": []
    },
    {
      "cell_type": "code",
      "metadata": {
        "id": "4p1U7_KFPK-v",
        "colab_type": "code",
        "colab": {}
      },
      "source": [
        "type(model_1)"
      ],
      "execution_count": 0,
      "outputs": []
    },
    {
      "cell_type": "code",
      "metadata": {
        "id": "N6p_EiIFPVHv",
        "colab_type": "code",
        "colab": {}
      },
      "source": [
        "model_1.summary() # number of neurons in first second third and last layer and total parameters"
      ],
      "execution_count": 0,
      "outputs": []
    },
    {
      "cell_type": "markdown",
      "metadata": {
        "id": "q94mDz4GMfS4",
        "colab_type": "text"
      },
      "source": [
        "# Tensorboard (visualising learning)"
      ]
    },
    {
      "cell_type": "code",
      "metadata": {
        "id": "AeSygGeyKc4E",
        "colab_type": "code",
        "colab": {}
      },
      "source": [
        "def get_tensorboard(model_name):\n",
        "  \n",
        "  folder_name = f'{model_name} at {strftime(\"%H %M\")}'\n",
        "  dir_paths = os.path.join(LOG_DIR, folder_name)\n",
        "\n",
        "  try:\n",
        "    os.makedirs(dir_paths)\n",
        "  except OSError as err:\n",
        "    print(err.strerror)\n",
        "  else:\n",
        "    print('Successfully created directory')\n",
        "\n",
        "  return TensorBoard(log_dir=dir_paths)"
      ],
      "execution_count": 0,
      "outputs": []
    },
    {
      "cell_type": "markdown",
      "metadata": {
        "id": "7CHnKA-gyEtw",
        "colab_type": "text"
      },
      "source": [
        "# Fit the Model"
      ]
    },
    {
      "cell_type": "code",
      "metadata": {
        "id": "3X99vFOzgAoU",
        "colab_type": "code",
        "colab": {}
      },
      "source": [
        "samples_per_batch = 1000"
      ],
      "execution_count": 0,
      "outputs": []
    },
    {
      "cell_type": "code",
      "metadata": {
        "id": "FA-s3g5SOHIq",
        "colab_type": "code",
        "colab": {}
      },
      "source": [
        "# %%time\n",
        "# nr_epochs = 150\n",
        "\n",
        "# model_1.fit(x_train_xs, y_train_xs, batch_size=samples_per_batch, epochs=nr_epochs, \n",
        "#             callbacks=[get_tensorboard('Model 1')], verbose=0, validation_data=(x_val, y_val))"
      ],
      "execution_count": 0,
      "outputs": []
    },
    {
      "cell_type": "code",
      "metadata": {
        "id": "mEA-6SQTH4-Q",
        "colab_type": "code",
        "colab": {}
      },
      "source": [
        "# %%time\n",
        "# nr_epochs = 150\n",
        "\n",
        "# model_2.fit(x_train_xs, y_train_xs, batch_size=samples_per_batch, epochs=nr_epochs, \n",
        "#             callbacks=[get_tensorboard('Model 2')], verbose=0, validation_data=(x_val, y_val))"
      ],
      "execution_count": 0,
      "outputs": []
    },
    {
      "cell_type": "code",
      "metadata": {
        "colab_type": "code",
        "outputId": "5c5d1045-8e47-4b83-8890-4b72689193cf",
        "id": "iKiLBUprKtnq",
        "colab": {
          "base_uri": "https://localhost:8080/",
          "height": 68
        }
      },
      "source": [
        "%%time\n",
        "nr_epochs = 100\n",
        "\n",
        "model_1.fit(x_train, y_train, batch_size=samples_per_batch, epochs=nr_epochs, \n",
        "            callbacks=[get_tensorboard('Model 1 XL')], verbose=0, validation_data=(x_val, y_val))"
      ],
      "execution_count": 0,
      "outputs": [
        {
          "output_type": "stream",
          "text": [
            "Successfully created directory\n",
            "CPU times: user 6min 43s, sys: 6.42 s, total: 6min 50s\n",
            "Wall time: 4min 1s\n"
          ],
          "name": "stdout"
        }
      ]
    },
    {
      "cell_type": "code",
      "metadata": {
        "colab_type": "code",
        "outputId": "ae157829-1c8c-407d-e45b-aad831c2ce8e",
        "id": "2oEjkjbAK5Kg",
        "colab": {
          "base_uri": "https://localhost:8080/"
        }
      },
      "source": [
        "%%time\n",
        "nr_epochs = 100\n",
        "\n",
        "model_2.fit(x_train, y_train, batch_size=samples_per_batch, epochs=nr_epochs, \n",
        "            callbacks=[get_tensorboard('Model 2 XL')], verbose=0, validation_data=(x_val, y_val))"
      ],
      "execution_count": 0,
      "outputs": [
        {
          "output_type": "stream",
          "text": [
            "Successfully created directory\n"
          ],
          "name": "stdout"
        }
      ]
    },
    {
      "cell_type": "code",
      "metadata": {
        "colab_type": "code",
        "id": "b83FizfgK_fW",
        "colab": {}
      },
      "source": [
        "%%time\n",
        "nr_epochs = 100\n",
        "\n",
        "model_3.fit(x_train, y_train, batch_size=samples_per_batch, epochs=nr_epochs, \n",
        "            callbacks=[get_tensorboard('Model 3 XL')], verbose=0, validation_data=(x_val, y_val))"
      ],
      "execution_count": 0,
      "outputs": []
    },
    {
      "cell_type": "markdown",
      "metadata": {
        "id": "nreZ5m1oQNJk",
        "colab_type": "text"
      },
      "source": [
        "# Predictions on Indivisual Images"
      ]
    },
    {
      "cell_type": "code",
      "metadata": {
        "id": "YrDb10x3JTKs",
        "colab_type": "code",
        "colab": {}
      },
      "source": [
        "x_val[0].shape"
      ],
      "execution_count": 0,
      "outputs": []
    },
    {
      "cell_type": "code",
      "metadata": {
        "id": "L8qRX9t_QaNd",
        "colab_type": "code",
        "colab": {}
      },
      "source": [
        "test = np.expand_dims(x_val[0], axis=0)\n",
        "test.shape"
      ],
      "execution_count": 0,
      "outputs": []
    },
    {
      "cell_type": "code",
      "metadata": {
        "id": "SdEMc_LURDm3",
        "colab_type": "code",
        "colab": {}
      },
      "source": [
        "np.set_printoptions(precision=3)"
      ],
      "execution_count": 0,
      "outputs": []
    },
    {
      "cell_type": "code",
      "metadata": {
        "id": "_wx7vk-sQoo4",
        "colab_type": "code",
        "colab": {}
      },
      "source": [
        "model_2.predict(test)"
      ],
      "execution_count": 0,
      "outputs": []
    },
    {
      "cell_type": "code",
      "metadata": {
        "id": "GnQG6Uo4Q2JP",
        "colab_type": "code",
        "colab": {}
      },
      "source": [
        "model_2.predict(x_val).shape # 10 predictions of each 10,000"
      ],
      "execution_count": 0,
      "outputs": []
    },
    {
      "cell_type": "code",
      "metadata": {
        "id": "PZ79spaRRQ6U",
        "colab_type": "code",
        "colab": {}
      },
      "source": [
        "model_2.predict_classes(test)  # predicted classes (largest number among 10 above)"
      ],
      "execution_count": 0,
      "outputs": []
    },
    {
      "cell_type": "code",
      "metadata": {
        "id": "LE265t8dRl2t",
        "colab_type": "code",
        "colab": {}
      },
      "source": [
        "y_val[0]"
      ],
      "execution_count": 0,
      "outputs": []
    },
    {
      "cell_type": "markdown",
      "metadata": {
        "id": "f5PTy53sR7Lc",
        "colab_type": "text"
      },
      "source": [
        "Loop to print out the actual value and the predicted value of first 10 images in the valuation dataset."
      ]
    },
    {
      "cell_type": "code",
      "metadata": {
        "id": "56eOtXN0R3TJ",
        "colab_type": "code",
        "colab": {}
      },
      "source": [
        "for number in range(10):\n",
        "  test_img = np.expand_dims(x_val[number], axis=0)\n",
        "  predicted_val = model_2.predict_classes(test_img)[0]\n",
        "  print(f'Actual value: {y_val[number][0]} vs. predicted: {predicted_val}')"
      ],
      "execution_count": 0,
      "outputs": []
    },
    {
      "cell_type": "markdown",
      "metadata": {
        "id": "AAHK-Z3vTUCm",
        "colab_type": "text"
      },
      "source": [
        "# Evaluation"
      ]
    },
    {
      "cell_type": "code",
      "metadata": {
        "id": "YeZPWom8SgbY",
        "colab_type": "code",
        "colab": {}
      },
      "source": [
        "model_2.metrics_names"
      ],
      "execution_count": 0,
      "outputs": []
    },
    {
      "cell_type": "code",
      "metadata": {
        "id": "puMyluT_Tu2W",
        "colab_type": "code",
        "colab": {}
      },
      "source": [
        "test_loss, test_accuracy = model_2.evaluate(x_test, y_test)\n",
        "print(f'Test loss is {test_loss:0.3} and test accuracy is {test_accuracy:0.1%}')"
      ],
      "execution_count": 0,
      "outputs": []
    },
    {
      "cell_type": "markdown",
      "metadata": {
        "id": "At1NSZBIUPsY",
        "colab_type": "text"
      },
      "source": [
        "## Confusion Matrix"
      ]
    },
    {
      "cell_type": "code",
      "metadata": {
        "id": "6m7O_yG5UAiV",
        "colab_type": "code",
        "colab": {}
      },
      "source": [
        "predictions = model_2.predict_classes(x_test)\n",
        "conf_matrix = confusion_matrix(y_true=y_test, y_pred=predictions)"
      ],
      "execution_count": 0,
      "outputs": []
    },
    {
      "cell_type": "code",
      "metadata": {
        "id": "efSe9IrWUyKS",
        "colab_type": "code",
        "colab": {}
      },
      "source": [
        "conf_matrix.shape"
      ],
      "execution_count": 0,
      "outputs": []
    },
    {
      "cell_type": "code",
      "metadata": {
        "id": "PC2ozFaoU3xh",
        "colab_type": "code",
        "colab": {}
      },
      "source": [
        "nr_rows = conf_matrix.shape[0]\n",
        "nr_cols = conf_matrix.shape[1]"
      ],
      "execution_count": 0,
      "outputs": []
    },
    {
      "cell_type": "code",
      "metadata": {
        "id": "_2D0ftOyU95p",
        "colab_type": "code",
        "colab": {}
      },
      "source": [
        "conf_matrix.max()"
      ],
      "execution_count": 0,
      "outputs": []
    },
    {
      "cell_type": "code",
      "metadata": {
        "id": "1ooetAuKVAnk",
        "colab_type": "code",
        "colab": {}
      },
      "source": [
        "conf_matrix.min()"
      ],
      "execution_count": 0,
      "outputs": []
    },
    {
      "cell_type": "code",
      "metadata": {
        "id": "IPp_OwwsXu7V",
        "colab_type": "code",
        "colab": {}
      },
      "source": [
        "conf_matrix[0]"
      ],
      "execution_count": 0,
      "outputs": []
    },
    {
      "cell_type": "code",
      "metadata": {
        "id": "MzMX1fxGVCp3",
        "colab_type": "code",
        "colab": {}
      },
      "source": [
        "plt.figure(figsize=(7,7), dpi=100)\n",
        "plt.imshow(conf_matrix, cmap=plt.cm.Greens)\n",
        "\n",
        "plt.title('Confusion Matrix', fontsize=16)\n",
        "plt.ylabel('Actual labels', fontsize=12)\n",
        "plt.xlabel('Predicted labels', fontsize=12)\n",
        "\n",
        "tick_marks = np.arange(NR_CLASSES)\n",
        "plt.yticks(tick_marks, LABEL_NAMES)\n",
        "plt.xticks(tick_marks, LABEL_NAMES)\n",
        "\n",
        "plt.colorbar()\n",
        "\n",
        "for i, j in itertools.product(range(nr_rows), range(nr_cols)):\n",
        "  plt.text(j, i, conf_matrix[i, j], horizontalalignment='center',\n",
        "          color='white' if conf_matrix[i, j] > conf_matrix.max()/2 else 'black')\n",
        "\n",
        "plt.show()"
      ],
      "execution_count": 0,
      "outputs": []
    },
    {
      "cell_type": "code",
      "metadata": {
        "id": "UT4VSV1IVNN3",
        "colab_type": "code",
        "colab": {}
      },
      "source": [
        "# True Positive\n",
        "np.diag(conf_matrix)"
      ],
      "execution_count": 0,
      "outputs": []
    },
    {
      "cell_type": "code",
      "metadata": {
        "id": "0n-H6cLLbaJU",
        "colab_type": "code",
        "colab": {}
      },
      "source": [
        "recall = np.diag(conf_matrix) / np.sum(conf_matrix, axis = 1)\n",
        "recall"
      ],
      "execution_count": 0,
      "outputs": []
    },
    {
      "cell_type": "code",
      "metadata": {
        "id": "208iJwUxbqFl",
        "colab_type": "code",
        "colab": {}
      },
      "source": [
        "precision = np.diag(conf_matrix) / np.sum(conf_matrix, axis=0)\n",
        "precision"
      ],
      "execution_count": 0,
      "outputs": []
    },
    {
      "cell_type": "code",
      "metadata": {
        "id": "2HzBXCYBcOP8",
        "colab_type": "code",
        "colab": {}
      },
      "source": [
        "avg_recall = np.mean(recall)\n",
        "print(f'Model 2 reacall score is {avg_recall:.2%}')"
      ],
      "execution_count": 0,
      "outputs": []
    },
    {
      "cell_type": "markdown",
      "metadata": {
        "id": "TI7l-zA1cirq",
        "colab_type": "text"
      },
      "source": [
        "Average precision for the model as a whole. Calculating the f-score for the model as a whole"
      ]
    },
    {
      "cell_type": "code",
      "metadata": {
        "id": "lybsfSlecVw8",
        "colab_type": "code",
        "colab": {}
      },
      "source": [
        "avg_precision = np.mean(precision)\n",
        "print(f'Model 2 precision score is {avg_precision:.2%}')\n",
        "\n",
        "f1_score = 2 * (avg_precision * avg_recall) / (avg_precision + avg_recall)\n",
        "print(f'Model 2 f score is {f1_score:.2%}')"
      ],
      "execution_count": 0,
      "outputs": []
    },
    {
      "cell_type": "code",
      "metadata": {
        "id": "65VNhAo5c-qS",
        "colab_type": "code",
        "colab": {}
      },
      "source": [
        ""
      ],
      "execution_count": 0,
      "outputs": []
    }
  ]
}